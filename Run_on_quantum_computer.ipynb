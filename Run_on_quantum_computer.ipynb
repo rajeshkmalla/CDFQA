{
 "cells": [
  {
   "cell_type": "code",
   "execution_count": 5,
   "metadata": {},
   "outputs": [],
   "source": [
    "import numpy as np\n",
    "from qiskit import QuantumCircuit, QuantumRegister, ClassicalRegister, transpile\n",
    "from qiskit.circuit import Parameter\n",
    "\n",
    "from qiskit.visualization import *\n",
    "from qiskit_aer import AerSimulator\n",
    "#from ibm_quantum_widgets import *\n",
    "\n",
    "\n",
    "from qiskit.quantum_info import SparsePauliOp, commutator\n",
    "from qiskit.transpiler.preset_passmanagers import generate_preset_pass_manager \n",
    "from qiskit_ibm_runtime import QiskitRuntimeService, Session , EstimatorV2 as Estimator"
   ]
  },
  {
   "cell_type": "code",
   "execution_count": 2,
   "metadata": {},
   "outputs": [],
   "source": [
    "H_p = SparsePauliOp.from_list(\n",
    "    [\n",
    "        (\"ZZII\", -1.0 ),\n",
    "        (\"IZZI\", -1.0 ),\n",
    "        (\"IIZZ\", -1.0 ),\n",
    "        (\"ZIII\", -0.4 ),\n",
    "        (\"IZII\", -0.4 ),\n",
    "        (\"IIZI\", -0.4 ),\n",
    "        (\"IIIZ\", -0.4 ),\n",
    "        (\"XIII\", -0.4 ),\n",
    "        (\"IXII\", -0.4 ),\n",
    "        (\"IIXI\", -0.4 ),\n",
    "        (\"IIIX\", -0.4 )\n",
    "    ]\n",
    ")\n",
    "\n",
    "H_d = SparsePauliOp.from_list(\n",
    "    [\n",
    "        (\"XIII\", 1.0 ),\n",
    "        (\"IXII\", 1.0 ),\n",
    "        (\"IIXI\", 1.0 ),\n",
    "        (\"IIIX\", 1.0 )\n",
    "    ]\n",
    ")\n",
    "\n",
    "\n",
    "# Using H_cd=Y as an example\n",
    "H_cd = SparsePauliOp.from_list(\n",
    "    [\n",
    "        (\"YIII\", 1.0 ),\n",
    "        (\"IYII\", 1.0 ),\n",
    "        (\"IIYI\", 1.0 ),\n",
    "        (\"IIIY\", 1.0 )\n",
    "    ]\n",
    ")\n",
    "\n",
    "\n",
    "H_random = SparsePauliOp.from_list(\n",
    "    [\n",
    "        (\"ZIII\", 1.0 ),\n",
    "        (\"IZII\", 1.0 ),\n",
    "        (\"IIZI\", 1.0 ),\n",
    "        (\"IIIZ\", 1.0 )\n",
    "    ]\n",
    ")"
   ]
  },
  {
   "cell_type": "code",
   "execution_count": 7,
   "metadata": {},
   "outputs": [],
   "source": [
    "sim_be = AerSimulator(method='density_matrix')"
   ]
  },
  {
   "cell_type": "code",
   "execution_count": 13,
   "metadata": {},
   "outputs": [
    {
     "name": "stderr",
     "output_type": "stream",
     "text": [
      "c:\\Python\\Python312\\Lib\\site-packages\\qiskit_ibm_runtime\\session.py:157: UserWarning: Session is not supported in local testing mode or when using a simulator.\n",
      "  warnings.warn(\n"
     ]
    },
    {
     "name": "stdout",
     "output_type": "stream",
     "text": [
      "expectation value of commutator:  [-0.0490234375, 3.2894531250000005]\n",
      "{'rx': 8, 'h': 4, 'rz': 4, 'ry': 4, 'rzz': 3}\n",
      "energy: -1.883203125\n",
      "variance: 0.029808547340604886\n",
      "expectation value of commutator:  [-0.7015625, 4.310742187499999]\n",
      "{'rx': 16, 'rz': 8, 'ry': 8, 'rzz': 6, 'h': 4}\n",
      "energy: -2.28173828125\n",
      "variance: 0.029737132512567814\n",
      "expectation value of commutator:  [-0.8464843750000001, 5.4556640625]\n",
      "{'rx': 24, 'rz': 12, 'ry': 12, 'rzz': 9, 'h': 4}\n",
      "energy: -2.9899414062500003\n",
      "variance: 0.0289331985924709\n",
      "expectation value of commutator:  [-1.696484375, 6.122265625000001]\n",
      "{'rx': 32, 'rz': 16, 'ry': 16, 'rzz': 12, 'h': 4}\n",
      "energy: -3.7576171875\n",
      "variance: 0.026503023271322704\n",
      "expectation value of commutator:  [-1.7839843750000002, 5.435351562499999]\n",
      "{'rx': 40, 'rz': 20, 'ry': 20, 'rzz': 15, 'h': 4}\n",
      "energy: -4.362988281250001\n",
      "variance: 0.02245747917959108\n",
      "expectation value of commutator:  [-1.1203125000000003, 3.9306640625]\n",
      "{'rx': 48, 'rz': 24, 'ry': 24, 'rzz': 18, 'h': 4}\n",
      "energy: -4.60517578125\n",
      "variance: 0.019169245155096423\n",
      "expectation value of commutator:  [-1.1232421875, 2.2349609374999995]\n",
      "{'rx': 56, 'rz': 28, 'ry': 28, 'rzz': 21, 'h': 4}\n",
      "energy: -4.6202148437499995\n",
      "variance: 0.01753593301943389\n",
      "expectation value of commutator:  [-0.16074218750000002, 0.8722656250000003]\n",
      "{'rx': 64, 'rz': 32, 'ry': 32, 'rzz': 24, 'h': 4}\n",
      "energy: -4.6736328125\n",
      "variance: 0.016610026445918216\n",
      "expectation value of commutator:  [-0.11035156249999994, 0.22714843750000002]\n",
      "{'rx': 72, 'rz': 36, 'ry': 36, 'rzz': 27, 'h': 4}\n",
      "energy: -4.6942382812500005\n",
      "variance: 0.01624891954679146\n",
      "expectation value of commutator:  [-0.10449218749999997, 0.23476562499999998]\n",
      "{'rx': 80, 'rz': 40, 'ry': 40, 'rzz': 30, 'h': 4}\n",
      "energy: -4.66259765625\n",
      "variance: 0.01621114223707129\n"
     ]
    },
    {
     "data": {
      "image/png": "[encoded data removed]",
      "text/plain": [
       "<Figure size 640x480 with 1 Axes>"
      ]
     },
     "metadata": {},
     "output_type": "display_data"
    }
   ],
   "source": [
    "n = 4 # number of qubits\n",
    "dt = 0.02\n",
    "depth = 10\n",
    "backend=sim_be # change to real backend if needed\n",
    "\n",
    "\n",
    "\n",
    "\n",
    "\n",
    "circuit = QuantumCircuit(n) # |0>|0>...\n",
    "for j in range(n ):\n",
    "    circuit.h(j)\n",
    "\n",
    "    \n",
    "beta = []\n",
    "gamma= []\n",
    "energy_flow = []\n",
    "meta_flow = []\n",
    "\n",
    "with Session( backend=backend) as session:\n",
    "    estimator = Estimator(session=session,options={\"resilience_level\": 0}) #change \"resilience_level\" if need error mitigation methods\n",
    "    for k in range(depth):\n",
    "        \n",
    "        commHd = 1.0j*commutator(H_d,H_p)\n",
    "        commHcd = 1.0j*commutator(H_cd,H_p)\n",
    "\n",
    "        pm = generate_preset_pass_manager(backend=backend, optimization_level=1)\n",
    "        isa_circuits = pm.run(circuit)\n",
    "        #isa_observables = hamiltonian.apply_layout(isa_psi.layout)\n",
    "        \n",
    "        \n",
    "        expectation_value_result = estimator.run([(isa_circuits, [commHd.apply_layout(isa_circuits.layout),commHcd.apply_layout(isa_circuits.layout)])]).result()\n",
    "        [betaExp , gammaExp] = expectation_value_result[0].data.evs\n",
    "        #print(expectation_value_hd)\n",
    "        beta.append(-betaExp)\n",
    "        \n",
    "\n",
    "        gamma.append(-gammaExp)\n",
    "\n",
    "        print(\"expectation value of commutator: \", [betaExp , gammaExp])\n",
    "        \n",
    "        \n",
    "        \n",
    "        \n",
    "        for j in range(n-1):    \n",
    "            circuit.rzz(2*dt,j,j+1)  #exp(-idtZZ/2) since H_p=-Sum(-ZZ-Z-X)\n",
    "\n",
    "        for j in range(n):    \n",
    "            circuit.rz(2*dt*0.4,j)  #exp(-idtZZ/2) since H_p=-Sum(-ZZ-Z-X)    \n",
    "            circuit.rx(2*dt*0.4,j)  #exp(-idtZZ/2) since H_p=-Sum(-ZZ-Z-X)   \n",
    "            \n",
    "        \n",
    "        for j in range(n):\n",
    "            angle = dt * beta[k]\n",
    "            circuit.rx(2*angle,j) #drift part with H_d = sum(X)\n",
    "            \n",
    "        for j in range(n):\n",
    "            angle = dt * gamma[k]\n",
    "            circuit.ry(2*angle,j) #CD part with H_cd = sum(Y)\n",
    "\n",
    "        print(dict(circuit.count_ops()))\n",
    "        \n",
    "        pm = generate_preset_pass_manager(backend=backend, optimization_level=1)\n",
    "        isa_circuits = pm.run(circuit)\n",
    "        \n",
    "        energy_result = estimator.run([(isa_circuits, H_p.apply_layout(isa_circuits.layout))] ).result()\n",
    "        energy=energy_result[0].data.evs\n",
    "        meta=energy_result[0].data.stds\n",
    "        energy_flow.append(energy)\n",
    "        meta_flow.append(meta)\n",
    "        \n",
    "        print(\"energy:\", energy)\n",
    "        print(\"variance:\", meta)\n",
    "\n",
    "\n",
    "    \n",
    "import matplotlib.pyplot as plt\n",
    "\n",
    "# Generate x-axis values (k values)\n",
    "k_values = range(len(energy_flow))\n",
    "\n",
    "# Plotting\n",
    "plt.plot(k_values, energy_flow)\n",
    "plt.xlabel('step')\n",
    "plt.ylabel('energy')\n",
    "plt.title('Energy change in the $H_p$ with FALQON')\n",
    "\n",
    "# Display the plot\n",
    "plt.show()"
   ]
  },
  {
   "cell_type": "code",
   "execution_count": 3,
   "metadata": {},
   "outputs": [
    {
     "data": {
      "text/plain": [
       "'1.2.0'"
      ]
     },
     "execution_count": 3,
     "metadata": {},
     "output_type": "execute_result"
    }
   ],
   "source": [
    "import qiskit\n",
    "qiskit.__version__"
   ]
  },
  {
   "cell_type": "code",
   "execution_count": null,
   "metadata": {},
   "outputs": [],
   "source": []
  }
 ],
 "metadata": {
  "kernelspec": {
   "display_name": "Python 3",
   "language": "python",
   "name": "python3"
  },
  "language_info": {
   "codemirror_mode": {
    "name": "ipython",
    "version": 3
   },
   "file_extension": ".py",
   "mimetype": "text/x-python",
   "name": "python",
   "nbconvert_exporter": "python",
   "pygments_lexer": "ipython3",
   "version": "3.12.3"
  }
 },
 "nbformat": 4,
 "nbformat_minor": 2
}
