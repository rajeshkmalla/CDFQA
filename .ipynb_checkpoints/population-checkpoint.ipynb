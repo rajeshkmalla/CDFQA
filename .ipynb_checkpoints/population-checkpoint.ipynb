{
 "cells": [
  {
   "cell_type": "code",
   "execution_count": 1,
   "id": "af2ee15c-49f6-4ff5-bade-02905069d09e",
   "metadata": {},
   "outputs": [
    {
     "ename": "ValueError",
     "evalue": "The truth value of an array with more than one element is ambiguous. Use a.any() or a.all()",
     "output_type": "error",
     "traceback": [
      "\u001b[0;31m---------------------------------------------------------------------------\u001b[0m",
      "\u001b[0;31mValueError\u001b[0m                                Traceback (most recent call last)",
      "Cell \u001b[0;32mIn[1], line 71\u001b[0m\n\u001b[1;32m     69\u001b[0m n \u001b[38;5;241m=\u001b[39m \u001b[38;5;241m1\u001b[39m\n\u001b[1;32m     70\u001b[0m \u001b[38;5;28;01mfor\u001b[39;00m i \u001b[38;5;129;01min\u001b[39;00m \u001b[38;5;28mrange\u001b[39m(\u001b[38;5;28mlen\u001b[39m(D1)):\n\u001b[0;32m---> 71\u001b[0m     \u001b[38;5;28;01mif\u001b[39;00m \u001b[38;5;241m2\u001b[39m \u001b[38;5;241m*\u001b[39m (n \u001b[38;5;241m-\u001b[39m \u001b[38;5;241m1\u001b[39m) \u001b[38;5;241m<\u001b[39m\u001b[38;5;241m=\u001b[39m D1[i] \u001b[38;5;241m<\u001b[39m \u001b[38;5;241m2\u001b[39m \u001b[38;5;241m*\u001b[39m n:\n\u001b[1;32m     72\u001b[0m         P0[n\u001b[38;5;241m-\u001b[39m\u001b[38;5;241m1\u001b[39m, :] \u001b[38;5;241m+\u001b[39m\u001b[38;5;241m=\u001b[39m pop0[i, :]\n\u001b[1;32m     73\u001b[0m         P[n\u001b[38;5;241m-\u001b[39m\u001b[38;5;241m1\u001b[39m, :] \u001b[38;5;241m+\u001b[39m\u001b[38;5;241m=\u001b[39m pop[i, :]\n",
      "\u001b[0;31mValueError\u001b[0m: The truth value of an array with more than one element is ambiguous. Use a.any() or a.all()"
     ]
    }
   ],
   "source": [
    "import numpy as np\n",
    "import matplotlib.pyplot as plt\n",
    "from scipy.linalg import eigh\n",
    "from scipy.sparse import eye as speye\n",
    "from mpl_toolkits.mplot3d import Axes3D\n",
    "import nbimporter\n",
    "from CDFQA_class import CDFQA\n",
    "\n",
    "# Initialize CDFQA object\n",
    "cdfqa = CDFQA()\n",
    "\n",
    "# Initialization\n",
    "N = 6\n",
    "J = -1\n",
    "hz = -0.4\n",
    "hx = -0.4\n",
    "perBC = 1  # Periodic boundary conditions\n",
    "CD = ['k', \"#0072BD\", \"#D95319\", \"#7E2F8E\", 'g', 'c', 'y']\n",
    "pool = ['I', 'Y', 'ZY', 'YZ']\n",
    "FalqonCD = 0  # 0 for original FALQON\n",
    "Colorcount = 2\n",
    "alpha = 1\n",
    "beta = 1\n",
    "gamma = 1\n",
    "\n",
    "# Building Hamiltonian\n",
    "HP = (cdfqa.ham_nn(N, 3, 3, J, perBC) + \n",
    "      cdfqa.ham_onsite(N, 3, hz) + \n",
    "      cdfqa.ham_onsite(N, 1, hx))\n",
    "\n",
    "# Eigen decomposition\n",
    "D, EV = eigh(HP)\n",
    "HM = cdfqa.ham_onsite(N, 1, 1)\n",
    "HCD0 = speye(2**N, dtype=np.complex128)\n",
    "HCD = cdfqa.ham_onsite(N, 2, 1)\n",
    "HCD1 = cdfqa.ham_nn(N, 2, 3, 1, perBC)\n",
    "HCD2 = cdfqa.ham_nn(N, 2, 1, 1, perBC)\n",
    "\n",
    "# Initial state (normalized)\n",
    "psi_initial = np.ones(2**N, dtype=np.complex128) / np.sqrt(2**N)\n",
    "\n",
    "# Parameters\n",
    "Layers = 200\n",
    "dt = 0.01\n",
    "\n",
    "# Population calculations\n",
    "pop0 = cdfqa.cdfqa_population_vs_cir_depth(N, HP, HM, HCD0, psi_initial, Layers, dt)\n",
    "pop = cdfqa.cdfqa_population_vs_cir_depth(N, HP, HM, HCD, psi_initial, Layers, dt)\n",
    "pop1 = cdfqa.cdfqa_population_vs_cir_depth(N, HP, HM, HCD1, psi_initial, Layers, dt)\n",
    "pop2 = cdfqa.cdfqa_population_vs_cir_depth(N, HP, HM, HCD2, psi_initial, Layers, dt)\n",
    "\n",
    "# Reshape and setup for plotting\n",
    "sz = pop0.shape\n",
    "T = Layers\n",
    "\n",
    "D1 = D - D[0]\n",
    "\n",
    "# ymax determination\n",
    "ymax = int(np.ceil(np.max(D1)))\n",
    "if ymax % 2 == 1:\n",
    "    ymax += 1\n",
    "\n",
    "# Prepare to accumulate population data in P0, P, P1, P2\n",
    "P0 = np.zeros((ymax//2 + 1, T), dtype=np.complex128)\n",
    "P = np.zeros((ymax//2 + 1, T), dtype=np.complex128)\n",
    "P1 = np.zeros((ymax//2 + 1, T), dtype=np.complex128)\n",
    "P2 = np.zeros((ymax//2 + 1, T), dtype=np.complex128)\n",
    "\n",
    "n = 1\n",
    "for i in range(len(D1)):\n",
    "    if 2 * (n - 1) <= D1[i] < 2 * n:\n",
    "        P0[n-1, :] += pop0[i, :]\n",
    "        P[n-1, :] += pop[i, :]\n",
    "        P1[n-1, :] += pop1[i, :]\n",
    "        P2[n-1, :] += pop2[i, :]\n",
    "    else:\n",
    "        n += 1\n",
    "\n",
    "# Plotting\n",
    "def plot_population(X, Y, P, title):\n",
    "    fig = plt.figure()\n",
    "    ax = fig.add_subplot(111, projection='3d')\n",
    "    surf = ax.plot_surface(X, Y, P.real, cmap=\"turbo\", edgecolor='none')\n",
    "    ax.view_init(elev=90, azim=-90)  # 2D view from top\n",
    "    ax.set_xlabel(r'$\\cal L$', fontsize=24)\n",
    "    ax.set_ylabel(r'$e_P$', fontsize=24)\n",
    "    ax.set_zlim(0, ymax/6)\n",
    "    fig.colorbar(surf)\n",
    "    plt.title(title)\n",
    "    plt.show()\n",
    "\n",
    "# Generate mesh for plotting\n",
    "X, Y = np.meshgrid(np.arange(1, T+1), np.linspace(0, ymax/6, ymax//2 + 1))\n",
    "\n",
    "# Plot each population\n",
    "plot_population(X, Y, P0, 'P0')\n",
    "plot_population(X, Y, P, 'P')\n",
    "plot_population(X, Y, P1, 'P1')\n",
    "plot_population(X, Y, P2, 'P2')\n"
   ]
  },
  {
   "cell_type": "code",
   "execution_count": 4,
   "id": "10491145-c8b1-4b29-a72f-a97745ee977f",
   "metadata": {},
   "outputs": [
    {
     "data": {
      "text/plain": [
       "(64,)"
      ]
     },
     "execution_count": 4,
     "metadata": {},
     "output_type": "execute_result"
    }
   ],
   "source": [
    "D.shape"
   ]
  },
  {
   "cell_type": "code",
   "execution_count": null,
   "id": "a13341c8-e8b3-49e0-92b2-03f59ce37d4d",
   "metadata": {},
   "outputs": [],
   "source": []
  }
 ],
 "metadata": {
  "kernelspec": {
   "display_name": "Python 3 (ipykernel)",
   "language": "python",
   "name": "python3"
  },
  "language_info": {
   "codemirror_mode": {
    "name": "ipython",
    "version": 3
   },
   "file_extension": ".py",
   "mimetype": "text/x-python",
   "name": "python",
   "nbconvert_exporter": "python",
   "pygments_lexer": "ipython3",
   "version": "3.9.6"
  }
 },
 "nbformat": 4,
 "nbformat_minor": 5
}
